{
 "metadata": {
  "language_info": {
   "codemirror_mode": {
    "name": "ipython",
    "version": 3
   },
   "file_extension": ".py",
   "mimetype": "text/x-python",
   "name": "python",
   "nbconvert_exporter": "python",
   "pygments_lexer": "ipython3",
   "version": "3.8.8"
  },
  "orig_nbformat": 2,
  "kernelspec": {
   "name": "python388jvsc74a57bd006e9c24bbe18bb435aa920230e9e876b3742b427160248dfeb04d58bd97ebfd0",
   "display_name": "Python 3.8.8 64-bit ('ADVECTOR': conda)"
  }
 },
 "nbformat": 4,
 "nbformat_minor": 2,
 "cells": [
  {
   "cell_type": "code",
   "execution_count": null,
   "metadata": {},
   "outputs": [],
   "source": [
    "# Figure 7\n",
    "\n",
    "import pandas as pd\n",
    "import seaborn as sns\n",
    "import matplotlib.pyplot as plt\n",
    "\n",
    "fig, (ax1, ax2) = plt.subplots(nrows=2, figsize=(12,8))\n",
    "\n",
    "df = pd.read_csv(\"../outputs/output_self_assimilation_gpgp/log.csv\")\n",
    "df = df[['weights_sum', 'weights_ref_sum', 'densities_rmse']]\n",
    "\n",
    "weights_sums_df = pd.DataFrame(\n",
    "    {\"Forecast Mass\": df.weights_sum, \"Reference Mass\": df.weights_ref_sum}\n",
    ")\n",
    "sns.lineplot(data=weights_sums_df, ax=ax1, palette=sns.color_palette(n_colors=2, desat=False))\n",
    "ax1.set_xlabel(\"Days since 2012 Jan 1\")\n",
    "ax1.set_ylabel(\"Total plastics mass\")\n",
    "\n",
    "rmse_df = pd.DataFrame(\n",
    "    {\"Concentration Field RMSE\": df.densities_rmse, \"Objective\": df.densities_rmse * 0}\n",
    ")\n",
    "sns.lineplot(data=rmse_df, ax=ax2, palette=sns.color_palette(n_colors=2, desat=False))\n",
    "ax2.set_xlabel(\"Days since 2012 Jan 1\")\n",
    "ax2.set_ylabel(\"Concentration Field RMSE\")\n",
    "\n",
    "fig.savefig(\"Fig7.png\")"
   ]
  },
  {
   "cell_type": "code",
   "execution_count": null,
   "metadata": {},
   "outputs": [],
   "source": [
    "# Figure 8\n",
    "\n",
    "import xarray as xr\n",
    "import matplotlib.pyplot as plt\n",
    "import matplotlib as mpl\n",
    "import cartopy.crs as ccrs\n",
    "import cartopy as cart\n",
    "import seaborn as sns\n",
    "from shapely.geometry import Polygon, Point\n",
    "\n",
    "OBSERVATION_LOCATIONS = [(25, 12), (50, 24)]\n",
    "OBSERVATION_LOCATIONS = [(195 - 360 + 0.5 * loc[0], 23 + 0.5 * loc[1]) for loc in OBSERVATION_LOCATIONS]\n",
    "\n",
    "ds_ref = xr.open_dataset(\"../data/data_self_assimilation_gpgp/densities_ref_self_assimilation_gpgp.nc\")\n",
    "ds_assimilated = xr.open_dataset(\"../data/data_self_assimilation_gpgp/densities_ensemble_self_assimilation_gpgp.nc\")\n",
    "ds_not_assimilated = xr.open_dataset(\"../data/data_self_assimilation_gpgp/densities_ensemble_self_assimilation_gpgp_init.nc\")\n",
    "\n",
    "assimilated_differences_ensembles = ds_assimilated.density - ds_not_assimilated.density\n",
    "assimilated_differences_end = assimilated_differences_ensembles.mean(dim=\"ensemble\").isel(time=360)\n",
    "assimilated_differences_end['lon'] = 195 + (assimilated_differences_end.lon * 0.5)\n",
    "assimilated_differences_end['lat'] = 23 + (assimilated_differences_end.lat * 0.5)\n",
    "\n",
    "assimilated_forecast = ds_assimilated.density.mean(dim=\"ensemble\").isel(time=360)\n",
    "assimilated_forecast['lon'] = 195 + (assimilated_forecast.lon * 0.5)\n",
    "assimilated_forecast['lat'] = 23 + (assimilated_forecast.lat * 0.5)\n",
    "\n",
    "fig, axes = plt.subplots(subplot_kw={'projection': ccrs.PlateCarree()}, figsize=(18,9))\n",
    "axes.coastlines()\n",
    "\n",
    "colors = mpl.colors.LinearSegmentedColormap.from_list(\"test\", [\"#00000000\", \"#000000FF\"])\n",
    "\n",
    "p1 = assimilated_differences_end.transpose().plot(ax=axes, transform=ccrs.PlateCarree(), robust=True, cmap=colors, cbar_kwargs={'label': 'concentration update (kg per km2)'})\n",
    "p1.axes.set_extent([190, 245, 15, 45])\n",
    "p1.axes.add_geometries([Point([loc[0], loc[1]]).buffer(0.5) for loc in OBSERVATION_LOCATIONS], ccrs.PlateCarree(), facecolor='#04cbe1', edgecolor='k')\n",
    "fig.savefig(\"Fig8.png\")"
   ]
  },
  {
   "cell_type": "code",
   "execution_count": null,
   "metadata": {},
   "outputs": [],
   "source": []
  }
 ]
}