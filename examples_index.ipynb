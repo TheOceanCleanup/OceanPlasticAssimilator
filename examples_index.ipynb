{
 "metadata": {
  "language_info": {
   "codemirror_mode": {
    "name": "ipython",
    "version": 3
   },
   "file_extension": ".py",
   "mimetype": "text/x-python",
   "name": "python",
   "nbconvert_exporter": "python",
   "pygments_lexer": "ipython3",
   "version": "3.8.6"
  },
  "orig_nbformat": 2,
  "kernelspec": {
   "name": "python386jvsc74a57bd0d42955c6c8aefd66344438e204b0ff3711b7b2892eecbf6670be6966af748312",
   "display_name": "Python 3.8.6 64-bit ('ocean-plastic-assimilator': conda)"
  }
 },
 "nbformat": 4,
 "nbformat_minor": 2,
 "cells": [
  {
   "source": [
    "# Running the experiments of the paper"
   ],
   "cell_type": "markdown",
   "metadata": {}
  },
  {
   "source": [
    "## 1. Run the assimilator double gyre experiments on double gyre files"
   ],
   "cell_type": "markdown",
   "metadata": {}
  },
  {
   "cell_type": "code",
   "execution_count": null,
   "metadata": {},
   "outputs": [],
   "source": [
    "# Download the data, if necessary\n",
    "\n",
    "import wget\n",
    "from pathlib import Path\n",
    "\n",
    "files_to_download = [\"parts_double_gyre_ref_eps_0.25_A_0.1175_as_2.nc\", \"parts_double_gyre_ref_eps_0.25_A_0.105_as_2.nc\",\n",
    "\"parts_double_gyre_ref_eps_0.25_A_0.11_as_2.nc\",\n",
    "\"parts_double_gyre_ref_eps_0.25_A_0.125_as_2.nc\",\n",
    "\"parts_double_gyre_ref_eps_0.25_A_0.1_as_2.nc\",\n",
    "\"parts_double_gyre_ref_eps_0.35_A_0.1_as_2.nc\",\n",
    "\"parts_double_gyre_ref_eps_0.3_A_0.1_as_2.nc\",\n",
    "\"parts_double_gyre_ref_eps_0.4_A_0.1_as_2.nc\",\n",
    "\"parts_double_gyre_ref_eps_0.5_A_0.1_as_2.nc\",\n",
    "\"parts_double_gyre_ref_eps_0_A_0.1_as_2.nc\",\n",
    "\"parts_double_gyre_ref_eps_1_A_0.1_as_2.nc\",\n",
    "\"parts_double_gyre_standard_as_3.nc\"]\n",
    "\n",
    "Path(\"data/\").mkdir(exist_ok=True)\n",
    "for file_to_download in files_to_download:\n",
    "  if not Path(f\"data/{file_to_download}\").exists():\n",
    "    print(f\"Downloading {file_to_download}...\")\n",
    "    wget.download(f\"https://zenodo.org/record/4426130/files/{file_to_download}\", f\"data/{file_to_download}\")\n",
    "\n",
    "print(\"All files required for experiment have been downloaded\")"
   ]
  },
  {
   "cell_type": "code",
   "execution_count": null,
   "metadata": {
    "tags": []
   },
   "outputs": [],
   "source": [
    "from src.run_assimilator import run_assimilator\n",
    "\n",
    "# Change the following parameters to reproduce the different experimental results\n",
    "# Changing A and epsilon will require to have downloaded the corresponding files.\n",
    "# If you are trying values of A and epsilon that do not have a corresponding dispersion file, you will have to generate it with the double gyre code\n",
    "\n",
    "mu = 2\n",
    "A = 0.1\n",
    "epsilon = 0.25\n",
    "sigma_rel = 0.01\n",
    "OBSERVATION_LOCATIONS = [(12, 4), (55, 27)]\n",
    "\n",
    "if __name__ == \"__main__\":\n",
    "    run_assimilator(\n",
    "        particles_dataset_path=\"data/parts_double_gyre_standard_as_3.nc\",\n",
    "        observations_type=\"from_simulation\",\n",
    "        observations_source_path=f\"data/parts_double_gyre_ref_eps_{epsilon}_A_{A}_as_2.nc\",\n",
    "        simulation_name=f\"mu_{mu}_A_{A}_eps_{epsilon}_sigma_rel_{sigma_rel}_obspoints_{OBSERVATION_LOCATIONS}\",\n",
    "        assimilation_domain_coords=(195, 20, 225, 40),\n",
    "        assimilation_grid_size=(60, 40),\n",
    "        size_ensemble=10,\n",
    "        initial_ensemble_spread=0.05,\n",
    "        t_start=0,\n",
    "        t_end=2000,\n",
    "        observations_error_percent=sigma_rel,\n",
    "        observation_locations=OBSERVATION_LOCATIONS,\n",
    "        initial_mass_multiplicator=mu,\n",
    "    )"
   ]
  },
  {
   "source": [
    "## 2. Run a self-assimilation experiment with observation sampled a dispersion model assimilated into another dispersion model"
   ],
   "cell_type": "markdown",
   "metadata": {}
  },
  {
   "cell_type": "code",
   "execution_count": null,
   "metadata": {},
   "outputs": [],
   "source": [
    "# First, download the data if it's not present, and prepare it\n",
    "\n",
    "import xarray as xr\n",
    "import numpy as np\n",
    "from datetime import datetime\n",
    "from dask.diagnostics import ProgressBar\n",
    "import wget\n",
    "from pathlib import Path\n",
    "\n",
    "files_to_download = [\"advector_output_rivers_2012.nc\", \"advector_output_coastal_2012.nc\"]\n",
    "\n",
    "Path(\"data/\").mkdir(exist_ok=True)\n",
    "for file_to_download in files_to_download:\n",
    "  if not Path(f\"data/{file_to_download}\").exists():\n",
    "    print(f\"Downloading {file_to_download}...\")\n",
    "    wget.download(f\"https://zenodo.org/record/4740138/files/{file_to_download}\", f\"data/{file_to_download}\")\n",
    "\n",
    "ds_in = xr.open_dataset(\"data/advector_output_coastal_2012.nc\", chunks=\"auto\")\n",
    "years_release = ds_in.release_date.dt.year\n",
    "days_release = ds_in.release_date.dt.dayofyear\n",
    "arg_release = (years_release - 1993) + days_release / 366\n",
    "\n",
    "def increasing_sine(x):\n",
    "    return x + (1 / (2 * np.pi)) * np.sin(2 * np.pi * x + np.pi)\n",
    "\n",
    "# 1 tonne per particle, as sensible value for a global plastic dispersion model\n",
    "ds_in[\"weight\"] = 1000 + 1000 * increasing_sine(arg_release)\n",
    "with ProgressBar():\n",
    "    ds_in.to_netcdf(\"data/advector_output_coastal_2012_adapted.nc\")"
   ]
  },
  {
   "cell_type": "code",
   "execution_count": null,
   "metadata": {},
   "outputs": [],
   "source": [
    "# Run the Ocean Plastic Assimilator\n",
    "\n",
    "from src.run_assimilator import run_assimilator\n",
    "import numpy as np\n",
    "\n",
    "cell_area = lambda dlon,dlat,lat: dlat * 111 * dlon * 111 * np.cos(lat * np.pi / 180)\n",
    "\n",
    "GRID_COORDS = (-165, 23, -125, 45)\n",
    "GRID_RESOLUTION = 0.5\n",
    "\n",
    "cells_area = np.array([[cell_area(0.5, 0.5, lat_id * GRID_RESOLUTION + GRID_COORDS[1]) for lat_id in range(44)] for lon_id in range(80)])\n",
    "\n",
    "if __name__ == \"__main__\":\n",
    "    run_assimilator(\n",
    "        particles_dataset_path=\"data/advector_output_rivers_2012.nc\",\n",
    "        observations_type=\"from_simulation\",\n",
    "        observations_source_path=\"data/advector_output_coastal_2012_adapted.nc\",\n",
    "        assimilation_domain_coords=GRID_COORDS,\n",
    "        assimilation_grid_size=(int(40 / GRID_RESOLUTION), int(22 / GRID_RESOLUTION)),\n",
    "        size_ensemble=10,\n",
    "        initial_ensemble_spread=50,\n",
    "        observations_error_percent=0.01,\n",
    "        observation_locations=[(25, 12), (50, 24)],\n",
    "        t_start=0,\n",
    "        t_end=360,\n",
    "        initial_mass_multiplicator=1000,\n",
    "        radius_observation=np.inf,\n",
    "        simulation_name=\"self_assimilation_gpgp\",\n",
    "        cells_area=cells_area,\n",
    "    )\n"
   ]
  }
 ]
}